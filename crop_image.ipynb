{
 "cells": [
  {
   "cell_type": "code",
   "execution_count": 1,
   "metadata": {},
   "outputs": [],
   "source": [
    "#!/usr/bin/python\n",
    "from PIL import Image\n",
    "import os, sys"
   ]
  },
  {
   "cell_type": "code",
   "execution_count": 2,
   "metadata": {},
   "outputs": [],
   "source": [
    "# create folder\n",
    "ori_path = \"./data\"\n",
    "ori_dirs = os.listdir( ori_path )\n",
    "ori_dirs.remove('.DS_Store')\n",
    "\n",
    "ori_parent_dir = \"./resized_data/\"\n",
    "\n",
    "for directory in ori_dirs:\n",
    "    ori_path = os.path.join(ori_parent_dir, directory)\n",
    "    os.mkdir(ori_path)"
   ]
  },
  {
   "cell_type": "code",
   "execution_count": 10,
   "metadata": {},
   "outputs": [],
   "source": [
    "def resize(artist):\n",
    "    for item in dirs :\n",
    "        if os.path.isfile(path+item) and item != '.DS_Store':\n",
    "            im = Image.open(path+item)\n",
    "            im = im.convert('RGB')\n",
    "            f, e = os.path.splitext(path+item)\n",
    "            imResize = im.resize((256,256), Image.ANTIALIAS)\n",
    "            imResize.save('./resized_data/'+ artist + '/' + item + ' resized.jpg', 'JPEG', quality=90)"
   ]
  },
  {
   "cell_type": "code",
   "execution_count": 11,
   "metadata": {},
   "outputs": [
    {
     "data": {
      "text/plain": [
       "['Rene_Magelite', 'Henri_Rousseau']"
      ]
     },
     "execution_count": 11,
     "metadata": {},
     "output_type": "execute_result"
    }
   ],
   "source": [
    "ori_dirs"
   ]
  },
  {
   "cell_type": "code",
   "execution_count": 12,
   "metadata": {},
   "outputs": [],
   "source": [
    "for artist in ori_dirs:\n",
    "    path = \"./data/\" + artist + '/'\n",
    "    dirs = os.listdir( path )\n",
    "    resize(artist)"
   ]
  },
  {
   "cell_type": "markdown",
   "metadata": {},
   "source": [
    "# rename and move images"
   ]
  },
  {
   "cell_type": "code",
   "execution_count": 7,
   "metadata": {},
   "outputs": [],
   "source": [
    "ori_path = \"./resized_data\"\n",
    "ori_dirs = os.listdir( ori_path )\n",
    "ori_dirs.remove('.DS_Store')\n"
   ]
  },
  {
   "cell_type": "code",
   "execution_count": 8,
   "metadata": {},
   "outputs": [
    {
     "data": {
      "text/plain": [
       "['Tetsuya_Ishida',\n",
       " 'Guillaume_Amat',\n",
       " 'Alejandro_Áboli',\n",
       " 'Andy_Warhol',\n",
       " 'Joe_Webb',\n",
       " 'Paul_Klee',\n",
       " 'Paul_Gauguin',\n",
       " 'Carter_Baran',\n",
       " 'Salvador_Dali',\n",
       " 'Vasiliy_Kandinskiy',\n",
       " 'Tom_Fabia',\n",
       " 'Fuco_Ueda',\n",
       " 'Joan_Miro',\n",
       " 'Moebius',\n",
       " 'Edvard_Munch',\n",
       " 'Kyle_Thompson ',\n",
       " 'Rene_Magelite',\n",
       " 'Man_Ray',\n",
       " 'Henri_Rousseau',\n",
       " 'Ruprecht']"
      ]
     },
     "execution_count": 8,
     "metadata": {},
     "output_type": "execute_result"
    }
   ],
   "source": [
    "ori_dirs"
   ]
  },
  {
   "cell_type": "code",
   "execution_count": 13,
   "metadata": {},
   "outputs": [],
   "source": [
    "def resize2(artist):\n",
    "    for item in dirs :\n",
    "        if os.path.isfile(path+item) and item != '.DS_Store':\n",
    "            im = Image.open(path+item)\n",
    "            im.save('./all_resized_data/'+ artist + item + ' resized.jpg', 'JPEG', quality=100)"
   ]
  },
  {
   "cell_type": "code",
   "execution_count": 14,
   "metadata": {},
   "outputs": [],
   "source": [
    "for artist in ori_dirs:\n",
    "    path = \"./resized_data/\" + artist + '/'\n",
    "    dirs = os.listdir( path )\n",
    "    resize2(artist)"
   ]
  },
  {
   "cell_type": "code",
   "execution_count": null,
   "metadata": {},
   "outputs": [],
   "source": []
  }
 ],
 "metadata": {
  "kernelspec": {
   "display_name": "Python 3",
   "language": "python",
   "name": "python3"
  },
  "language_info": {
   "codemirror_mode": {
    "name": "ipython",
    "version": 3
   },
   "file_extension": ".py",
   "mimetype": "text/x-python",
   "name": "python",
   "nbconvert_exporter": "python",
   "pygments_lexer": "ipython3",
   "version": "3.7.1"
  }
 },
 "nbformat": 4,
 "nbformat_minor": 2
}
