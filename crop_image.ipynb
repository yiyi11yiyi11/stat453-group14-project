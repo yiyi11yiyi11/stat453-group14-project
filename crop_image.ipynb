{
 "cells": [
  {
   "cell_type": "code",
   "execution_count": 2,
   "metadata": {},
   "outputs": [],
   "source": [
    "#!/usr/bin/python\n",
    "from PIL import Image\n",
    "import os, sys"
   ]
  },
  {
   "cell_type": "code",
   "execution_count": 52,
   "metadata": {},
   "outputs": [],
   "source": [
    "# create folder\n",
    "ori_path = \"./data\"\n",
    "ori_dirs = os.listdir( ori_path )\n",
    "ori_dirs.remove('.DS_Store')\n",
    "\n",
    "ori_parent_dir = \"./resized_data/\"\n",
    "\n",
    "for directory in ori_dirs:\n",
    "    ori_path = os.path.join(ori_parent_dir, directory)\n",
    "    os.mkdir(ori_path)"
   ]
  },
  {
   "cell_type": "code",
   "execution_count": 53,
   "metadata": {},
   "outputs": [],
   "source": [
    "def resize(artist):\n",
    "    for item in dirs :\n",
    "        if os.path.isfile(path+item) and item != '.DS_Store':\n",
    "            im = Image.open(path+item)\n",
    "            f, e = os.path.splitext(path+item)\n",
    "            imResize = im.resize((256,256), Image.ANTIALIAS)\n",
    "            imResize.save('./resized_data/'+ artist + '/' + item + ' resized.jpg', 'JPEG', quality=90)"
   ]
  },
  {
   "cell_type": "code",
   "execution_count": 54,
   "metadata": {},
   "outputs": [
    {
     "data": {
      "text/plain": [
       "['Kyle_Thompson ', 'Man_Ray', 'Ruprecht']"
      ]
     },
     "execution_count": 54,
     "metadata": {},
     "output_type": "execute_result"
    }
   ],
   "source": [
    "ori_dirs"
   ]
  },
  {
   "cell_type": "code",
   "execution_count": 55,
   "metadata": {},
   "outputs": [],
   "source": [
    "for artist in ori_dirs:\n",
    "    path = \"./data/\" + artist + '/'\n",
    "    dirs = os.listdir( path )\n",
    "    resize(artist)"
   ]
  },
  {
   "cell_type": "code",
   "execution_count": null,
   "metadata": {},
   "outputs": [],
   "source": []
  }
 ],
 "metadata": {
  "kernelspec": {
   "display_name": "Python 3",
   "language": "python",
   "name": "python3"
  },
  "language_info": {
   "codemirror_mode": {
    "name": "ipython",
    "version": 3
   },
   "file_extension": ".py",
   "mimetype": "text/x-python",
   "name": "python",
   "nbconvert_exporter": "python",
   "pygments_lexer": "ipython3",
   "version": "3.7.1"
  }
 },
 "nbformat": 4,
 "nbformat_minor": 2
}
